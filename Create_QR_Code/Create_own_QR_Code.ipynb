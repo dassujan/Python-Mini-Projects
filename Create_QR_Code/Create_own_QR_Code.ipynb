{
  "nbformat": 4,
  "nbformat_minor": 0,
  "metadata": {
    "colab": {
      "name": "Create_own_QR_Code.ipynb",
      "provenance": [],
      "collapsed_sections": []
    },
    "kernelspec": {
      "name": "python3",
      "display_name": "Python 3"
    },
    "language_info": {
      "name": "python"
    }
  },
  "cells": [
    {
      "cell_type": "code",
      "metadata": {
        "colab": {
          "base_uri": "https://localhost:8080/"
        },
        "id": "SQSwFThKWAuG",
        "outputId": "bb29f3d5-68ab-47c5-d6cf-20dc6718c982"
      },
      "source": [
        "#install libraries \n",
        "!pip install pyqrcode\n",
        "!pip install pypng"
      ],
      "execution_count": 1,
      "outputs": [
        {
          "output_type": "stream",
          "text": [
            "Collecting pyqrcode\n",
            "  Downloading https://files.pythonhosted.org/packages/37/61/f07226075c347897937d4086ef8e55f0a62ae535e28069884ac68d979316/PyQRCode-1.2.1.tar.gz\n",
            "Building wheels for collected packages: pyqrcode\n",
            "  Building wheel for pyqrcode (setup.py) ... \u001b[?25l\u001b[?25hdone\n",
            "  Created wheel for pyqrcode: filename=PyQRCode-1.2.1-cp37-none-any.whl size=36245 sha256=e052d6bee8064e9b54ae228b76a7d285bb24ca4bceb7f3adbe8c2faf1bf26469\n",
            "  Stored in directory: /root/.cache/pip/wheels/54/61/2f/a4f51b09473db5737db0f654ed10eb9a4ee01f83a7412de349\n",
            "Successfully built pyqrcode\n",
            "Installing collected packages: pyqrcode\n",
            "Successfully installed pyqrcode-1.2.1\n",
            "Collecting pypng\n",
            "\u001b[?25l  Downloading https://files.pythonhosted.org/packages/bc/fb/f719f1ac965e2101aa6ea6f54ef8b40f8fbb033f6ad07c017663467f5147/pypng-0.0.20.tar.gz (649kB)\n",
            "\u001b[K     |████████████████████████████████| 655kB 3.8MB/s \n",
            "\u001b[?25hBuilding wheels for collected packages: pypng\n",
            "  Building wheel for pypng (setup.py) ... \u001b[?25l\u001b[?25hdone\n",
            "  Created wheel for pypng: filename=pypng-0.0.20-cp37-none-any.whl size=67179 sha256=f17ca883db0d34c3505a9b5824823d4a5d6a1602fe7e3a56c8d4d95c5518a7c0\n",
            "  Stored in directory: /root/.cache/pip/wheels/41/6b/ef/0493b536b6d4722c2ae9486691b1d49b922b9877922beeabb3\n",
            "Successfully built pypng\n",
            "Installing collected packages: pypng\n",
            "Successfully installed pypng-0.0.20\n"
          ],
          "name": "stdout"
        }
      ]
    },
    {
      "cell_type": "code",
      "metadata": {
        "id": "TSPOX71_Yo1s"
      },
      "source": [
        "#import the module\n",
        "import pyqrcode"
      ],
      "execution_count": 2,
      "outputs": []
    },
    {
      "cell_type": "code",
      "metadata": {
        "id": "Fis1YlxbY9PG"
      },
      "source": [
        "#define the link\n",
        "link = 'https://github.com/dassujan'"
      ],
      "execution_count": 3,
      "outputs": []
    },
    {
      "cell_type": "code",
      "metadata": {
        "id": "r3KvgbuFZkiF"
      },
      "source": [
        "#create qrcode\n",
        "img = pyqrcode.create(link)"
      ],
      "execution_count": 4,
      "outputs": []
    },
    {
      "cell_type": "code",
      "metadata": {
        "id": "RzCuGFnDZq9b"
      },
      "source": [
        "#save the qrcode in png format with proper scaling\n",
        "img.png('mygithub.png', scale= 12)"
      ],
      "execution_count": 5,
      "outputs": []
    },
    {
      "cell_type": "code",
      "metadata": {
        "colab": {
          "base_uri": "https://localhost:8080/"
        },
        "id": "6IBl32_4epRK",
        "outputId": "e7b14c04-5d15-4aed-eafa-3b27eac17254"
      },
      "source": [
        "#define text & creating a qrcode\n",
        "!pip install qrcode[pil]\n",
        "import qrcode\n",
        "img = qrcode.make('Hey..!! This is Sujan. I am extremely passionate about Web Development, Data Science and Programming.')\n",
        "type(img)  # qrcode.image.pil.PilImage\n",
        "img.save(\"mytext.png\")"
      ],
      "execution_count": 6,
      "outputs": [
        {
          "output_type": "stream",
          "text": [
            "Collecting qrcode[pil]\n",
            "  Downloading https://files.pythonhosted.org/packages/c8/1b/d5e0ad4ca933213fa1491c1038cbcdca14906618b339d29c380f6e3b6d01/qrcode-7.1.tar.gz\n",
            "Requirement already satisfied: pillow in /usr/local/lib/python3.7/dist-packages (from qrcode[pil]) (7.1.2)\n",
            "Building wheels for collected packages: qrcode\n",
            "  Building wheel for qrcode (setup.py) ... \u001b[?25l\u001b[?25hdone\n",
            "  Created wheel for qrcode: filename=qrcode-7.1-cp37-none-any.whl size=31983 sha256=44d5bd061e74c3e7faa398cffca46615c3536a8e56aa9b8cf31311449ea04b19\n",
            "  Stored in directory: /root/.cache/pip/wheels/42/fc/db/fa3a8fa9882ae315c4e9a8419d9d33d9565d8b7f58dd62c498\n",
            "Successfully built qrcode\n",
            "Installing collected packages: qrcode\n",
            "Successfully installed qrcode-7.1\n"
          ],
          "name": "stdout"
        }
      ]
    }
  ]
}