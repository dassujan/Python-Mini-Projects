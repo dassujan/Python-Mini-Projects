{
  "nbformat": 4,
  "nbformat_minor": 0,
  "metadata": {
    "kernelspec": {
      "display_name": "Python 3",
      "language": "python",
      "name": "python3"
    },
    "language_info": {
      "codemirror_mode": {
        "name": "ipython",
        "version": 3
      },
      "file_extension": ".py",
      "mimetype": "text/x-python",
      "name": "python",
      "nbconvert_exporter": "python",
      "pygments_lexer": "ipython3",
      "version": "3.7.4"
    },
    "colab": {
      "name": "Develop_Cryptography_App_in_python.ipynb",
      "provenance": [],
      "collapsed_sections": []
    }
  },
  "cells": [
    {
      "cell_type": "markdown",
      "metadata": {
        "id": "tM04rzfrx-pI"
      },
      "source": [
        "# Develop Cryptography App using python"
      ]
    },
    {
      "cell_type": "code",
      "metadata": {
        "id": "RO0NtCJtx-pl"
      },
      "source": [
        "# Cryptography means converting a simple plain text into something \n",
        "# which is not understandable easy until someone has the KEY or Code "
      ],
      "execution_count": 1,
      "outputs": []
    },
    {
      "cell_type": "code",
      "metadata": {
        "id": "zM5YxN0kx-po"
      },
      "source": [
        "# Cipher Text -> \n",
        "# A text which is the result of Encryption is knows as Chiper Text"
      ],
      "execution_count": 2,
      "outputs": []
    },
    {
      "cell_type": "code",
      "metadata": {
        "id": "bvZeKcqTx-pp"
      },
      "source": [
        "# Encryption -> \n",
        "\n",
        "# Converting a message to Secret message is known as Encrytpion "
      ],
      "execution_count": 3,
      "outputs": []
    },
    {
      "cell_type": "code",
      "metadata": {
        "id": "bPaMo61Mx-pq"
      },
      "source": [
        "# Decryption ->\n",
        "\n",
        "# Converting back the Secret messege to Normal Message "
      ],
      "execution_count": 4,
      "outputs": []
    },
    {
      "cell_type": "markdown",
      "metadata": {
        "id": "MtKCeN6-x-pr"
      },
      "source": [
        "# I'm writing a Python Program which converts, Any Given Text to Chiper Text and when every the key is avalible it should convert it back to the Normal Message."
      ]
    },
    {
      "cell_type": "markdown",
      "metadata": {
        "id": "h41mSULyx-ps"
      },
      "source": [
        "Step 1 - > Which Library to use to convert a Normal text to Chiper Text "
      ]
    },
    {
      "cell_type": "markdown",
      "metadata": {
        "id": "TVX5xJNFx-pt"
      },
      "source": [
        "Step 2 -> Take Input from the User and convert it to Chiper Text"
      ]
    },
    {
      "cell_type": "markdown",
      "metadata": {
        "id": "-N7ngUeZx-pu"
      },
      "source": [
        "Step 3 -> Display back the Chiper Text to user "
      ]
    },
    {
      "cell_type": "markdown",
      "metadata": {
        "id": "dgstus33x-pv"
      },
      "source": [
        "Step 4 -> Load the Key and If the Key is the same, based upon the Input provided, convert it to normal Text "
      ]
    },
    {
      "cell_type": "code",
      "metadata": {
        "id": "gTDgsQ00x-pw",
        "colab": {
          "base_uri": "https://localhost:8080/"
        },
        "outputId": "f18b22f4-31d0-4592-ed0e-19166b13a398"
      },
      "source": [
        "!pip install cryptography"
      ],
      "execution_count": 5,
      "outputs": [
        {
          "output_type": "stream",
          "text": [
            "Collecting cryptography\n",
            "\u001b[?25l  Downloading https://files.pythonhosted.org/packages/b2/26/7af637e6a7e87258b963f1731c5982fb31cd507f0d90d91836e446955d02/cryptography-3.4.7-cp36-abi3-manylinux2014_x86_64.whl (3.2MB)\n",
            "\u001b[K     |████████████████████████████████| 3.2MB 4.9MB/s \n",
            "\u001b[?25hRequirement already satisfied: cffi>=1.12 in /usr/local/lib/python3.7/dist-packages (from cryptography) (1.14.5)\n",
            "Requirement already satisfied: pycparser in /usr/local/lib/python3.7/dist-packages (from cffi>=1.12->cryptography) (2.20)\n",
            "Installing collected packages: cryptography\n",
            "Successfully installed cryptography-3.4.7\n"
          ],
          "name": "stdout"
        }
      ]
    },
    {
      "cell_type": "code",
      "metadata": {
        "id": "9DOHgTdnx-p2"
      },
      "source": [
        "from cryptography.fernet import Fernet"
      ],
      "execution_count": 6,
      "outputs": []
    },
    {
      "cell_type": "code",
      "metadata": {
        "id": "_a3RChoOx-p3"
      },
      "source": [
        "def genratePassKey():\n",
        "    key = Fernet.generate_key()\n",
        "    print(key)\n",
        "    print(type(key))\n",
        "    abc = open(\"PasswordKey.key\",'wb')\n",
        "    abc.write(key)\n",
        "    abc.close()"
      ],
      "execution_count": 7,
      "outputs": []
    },
    {
      "cell_type": "code",
      "metadata": {
        "id": "OL-GyCoNx-p5",
        "colab": {
          "base_uri": "https://localhost:8080/"
        },
        "outputId": "f2f19317-daa6-488a-91de-0e810857ceb6"
      },
      "source": [
        "genratePassKey()"
      ],
      "execution_count": 8,
      "outputs": [
        {
          "output_type": "stream",
          "text": [
            "b'XqR1NqdQGyhJQHBAfSQZ87cxl0fmBpPTpfXux-4GUAs='\n",
            "<class 'bytes'>\n"
          ],
          "name": "stdout"
        }
      ]
    },
    {
      "cell_type": "code",
      "metadata": {
        "id": "kSxJKkbcx-p7"
      },
      "source": [
        "def getMyKey():\n",
        "    abc = open(\"PasswordKey.key\",'rb')\n",
        "    return abc.read()"
      ],
      "execution_count": 9,
      "outputs": []
    },
    {
      "cell_type": "code",
      "metadata": {
        "id": "ZKuhD4-Qx-p8",
        "colab": {
          "base_uri": "https://localhost:8080/"
        },
        "outputId": "9a1955ea-625d-41d5-9a28-e6ceccdf2a9d"
      },
      "source": [
        "getMyKey()"
      ],
      "execution_count": 10,
      "outputs": [
        {
          "output_type": "execute_result",
          "data": {
            "text/plain": [
              "b'XqR1NqdQGyhJQHBAfSQZ87cxl0fmBpPTpfXux-4GUAs='"
            ]
          },
          "metadata": {
            "tags": []
          },
          "execution_count": 10
        }
      ]
    },
    {
      "cell_type": "code",
      "metadata": {
        "id": "lfPcyQOKx-p9"
      },
      "source": [
        "def getContentFromUser():\n",
        "    return input(\"Enter the Content you want to Encrypt in your python Script\")"
      ],
      "execution_count": 11,
      "outputs": []
    },
    {
      "cell_type": "code",
      "metadata": {
        "id": "aWhfvl2gx-p-",
        "colab": {
          "base_uri": "https://localhost:8080/",
          "height": 52
        },
        "outputId": "6f4b319c-cfcd-4bcb-f121-1fee67ad942f"
      },
      "source": [
        "getContentFromUser()"
      ],
      "execution_count": 12,
      "outputs": [
        {
          "output_type": "stream",
          "text": [
            "Enter the Content you want to Encrypt in your python ScriptThis is Sujan from UIT, Burdwan.\n"
          ],
          "name": "stdout"
        },
        {
          "output_type": "execute_result",
          "data": {
            "application/vnd.google.colaboratory.intrinsic+json": {
              "type": "string"
            },
            "text/plain": [
              "'This is Sujan from UIT, Burdwan.'"
            ]
          },
          "metadata": {
            "tags": []
          },
          "execution_count": 12
        }
      ]
    },
    {
      "cell_type": "code",
      "metadata": {
        "id": "6G3RKKPyx-p_"
      },
      "source": [
        "def encryptMessage(message_normal):\n",
        "    key = getMyKey()\n",
        "    k = Fernet(key)\n",
        "    encrypted_Message = k.encrypt(message_normal)\n",
        "    return encrypted_Message"
      ],
      "execution_count": 13,
      "outputs": []
    },
    {
      "cell_type": "code",
      "metadata": {
        "id": "YfeN3NPjx-qA",
        "colab": {
          "base_uri": "https://localhost:8080/"
        },
        "outputId": "51dd4a73-d635-41ac-bd70-5f5fe0888024"
      },
      "source": [
        "encryptMessage(b\" HEY THIS IS MY ATM NUMBER 734455\")"
      ],
      "execution_count": 14,
      "outputs": [
        {
          "output_type": "execute_result",
          "data": {
            "text/plain": [
              "b'gAAAAABguP4ESu1K6c44DyD5cMCrItdZmcEwRyvDXNBLxscwqDMLj2fNCZGvxPyIGMdt6o3t0WpZlRs4VT0X80A6NbgiMOUms1uPmS6rnYrGcsXFu6AoaDNX2OpYcBpSfDVZiFPBTrRz'"
            ]
          },
          "metadata": {
            "tags": []
          },
          "execution_count": 14
        }
      ]
    },
    {
      "cell_type": "code",
      "metadata": {
        "id": "gEF33w-Xx-qB"
      },
      "source": [
        "def decryptMessage(message_secret):\n",
        "    key = getMyKey()\n",
        "    k = Fernet(key)\n",
        "    decrypted_Message = k.decrypt(message_secret)\n",
        "    return decrypted_Message"
      ],
      "execution_count": 15,
      "outputs": []
    },
    {
      "cell_type": "code",
      "metadata": {
        "id": "-ETzbpP3x-qC",
        "colab": {
          "base_uri": "https://localhost:8080/"
        },
        "outputId": "f077ef86-d3b6-4dfe-b22c-0779896b6383"
      },
      "source": [
        "decryptMessage(b'gAAAAABguP4ESu1K6c44DyD5cMCrItdZmcEwRyvDXNBLxscwqDMLj2fNCZGvxPyIGMdt6o3t0WpZlRs4VT0X80A6NbgiMOUms1uPmS6rnYrGcsXFu6AoaDNX2OpYcBpSfDVZiFPBTrRz')\n"
      ],
      "execution_count": 16,
      "outputs": [
        {
          "output_type": "execute_result",
          "data": {
            "text/plain": [
              "b' HEY THIS IS MY ATM NUMBER 734455'"
            ]
          },
          "metadata": {
            "tags": []
          },
          "execution_count": 16
        }
      ]
    }
  ]
}