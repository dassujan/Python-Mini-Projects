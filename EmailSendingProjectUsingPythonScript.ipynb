{
  "nbformat": 4,
  "nbformat_minor": 0,
  "metadata": {
    "colab": {
      "name": "EmailSendingProjectUsingPythonScript.ipynb",
      "provenance": [],
      "collapsed_sections": []
    },
    "kernelspec": {
      "display_name": "Python 3",
      "language": "python",
      "name": "python3"
    },
    "language_info": {
      "codemirror_mode": {
        "name": "ipython",
        "version": 3
      },
      "file_extension": ".py",
      "mimetype": "text/x-python",
      "name": "python",
      "nbconvert_exporter": "python",
      "pygments_lexer": "ipython3",
      "version": "3.6.10"
    }
  },
  "cells": [
    {
      "cell_type": "markdown",
      "metadata": {
        "id": "J-uXQg51i77N"
      },
      "source": [
        "#Email Sending Project"
      ]
    },
    {
      "cell_type": "code",
      "metadata": {
        "colab": {
          "base_uri": "https://localhost:8080/"
        },
        "id": "u_HcyeLrizr_",
        "outputId": "61bb0920-a27b-42ee-f005-2fb307037102"
      },
      "source": [
        "!pip install emails"
      ],
      "execution_count": 1,
      "outputs": [
        {
          "output_type": "stream",
          "text": [
            "Collecting emails\n",
            "\u001b[?25l  Downloading https://files.pythonhosted.org/packages/55/7e/b648d640d88d31de49e566832aca9cce025c52d6349b0a0fc65e9df1f4c5/emails-0.6-py2.py3-none-any.whl (56kB)\n",
            "\u001b[K     |████████████████████████████████| 61kB 7.6MB/s \n",
            "\u001b[?25hCollecting cssutils\n",
            "\u001b[?25l  Downloading https://files.pythonhosted.org/packages/24/c4/9db28fe567612896d360ab28ad02ee8ae107d0e92a22db39affd3fba6212/cssutils-2.3.0-py3-none-any.whl (404kB)\n",
            "\u001b[K     |████████████████████████████████| 409kB 33.7MB/s \n",
            "\u001b[?25hCollecting premailer\n",
            "  Downloading https://files.pythonhosted.org/packages/d9/02/ba01e611eb82df8be03849de6564851387336c9af24b33b588b809b3d09f/premailer-3.9.0-py2.py3-none-any.whl\n",
            "Requirement already satisfied: chardet in /usr/local/lib/python3.7/dist-packages (from emails) (3.0.4)\n",
            "Requirement already satisfied: requests in /usr/local/lib/python3.7/dist-packages (from emails) (2.23.0)\n",
            "Requirement already satisfied: lxml in /usr/local/lib/python3.7/dist-packages (from emails) (4.2.6)\n",
            "Requirement already satisfied: python-dateutil in /usr/local/lib/python3.7/dist-packages (from emails) (2.8.1)\n",
            "Requirement already satisfied: importlib-metadata; python_version < \"3.8\" in /usr/local/lib/python3.7/dist-packages (from cssutils->emails) (4.5.0)\n",
            "Requirement already satisfied: cachetools in /usr/local/lib/python3.7/dist-packages (from premailer->emails) (4.2.2)\n",
            "Collecting cssselect\n",
            "  Downloading https://files.pythonhosted.org/packages/3b/d4/3b5c17f00cce85b9a1e6f91096e1cc8e8ede2e1be8e96b87ce1ed09e92c5/cssselect-1.1.0-py2.py3-none-any.whl\n",
            "Requirement already satisfied: urllib3!=1.25.0,!=1.25.1,<1.26,>=1.21.1 in /usr/local/lib/python3.7/dist-packages (from requests->emails) (1.24.3)\n",
            "Requirement already satisfied: idna<3,>=2.5 in /usr/local/lib/python3.7/dist-packages (from requests->emails) (2.10)\n",
            "Requirement already satisfied: certifi>=2017.4.17 in /usr/local/lib/python3.7/dist-packages (from requests->emails) (2021.5.30)\n",
            "Requirement already satisfied: six>=1.5 in /usr/local/lib/python3.7/dist-packages (from python-dateutil->emails) (1.15.0)\n",
            "Requirement already satisfied: zipp>=0.5 in /usr/local/lib/python3.7/dist-packages (from importlib-metadata; python_version < \"3.8\"->cssutils->emails) (3.4.1)\n",
            "Requirement already satisfied: typing-extensions>=3.6.4; python_version < \"3.8\" in /usr/local/lib/python3.7/dist-packages (from importlib-metadata; python_version < \"3.8\"->cssutils->emails) (3.7.4.3)\n",
            "Installing collected packages: cssutils, cssselect, premailer, emails\n",
            "Successfully installed cssselect-1.1.0 cssutils-2.3.0 emails-0.6 premailer-3.9.0\n"
          ],
          "name": "stdout"
        }
      ]
    },
    {
      "cell_type": "code",
      "metadata": {
        "id": "9n-YcGkojXHn"
      },
      "source": [
        "import emails #Please Allow less secure apps: ON"
      ],
      "execution_count": 2,
      "outputs": []
    },
    {
      "cell_type": "code",
      "metadata": {
        "id": "W4DDHZHVngah"
      },
      "source": [
        "def sendMail(email, name):\n",
        "\n",
        "  html_text = '''<p><span style='font-family: \"Courier New\", courier; background-color: rgb(250, 197, 28);'>HEY Learner,</span></p>\n",
        "              \t<p><span style='font-family: \"Courier New\", courier; background-color: rgb(250, 197, 28);'>HEY Learner,</span></p>\n",
        "\t\t            <p><span style=\"font-family: Courier New, courier;\">How are you! This is Sujan from University Institute of Technology, The University of Burdwan.&nbsp;</span></p>\n",
        "\t\t            <p><span style=\"font-family: Courier New, courier;\">I have created python learning &amp; project repository on Github.</span></p>\n",
        "\t\t            <p><span style=\"font-family: Courier New, courier;\">I upoaded all my Python Essenstial things on Github.</span></p>\n",
        "\t\t            <p><span style='font-family: \"Courier New\", courier;'>Checkout my all projects &amp; learning python with me on Github!</span></p>\n",
        "\t\t            <p><br></p>\n",
        "\t\t            <p><span style='font-family: \"Courier New\", courier;'>Thanks &amp; Regards,</span></p>\n",
        "\t\t            <p><span style='font-family: \"Courier New\", courier;'><strong>Sujan Das</strong></span></p>\n",
        "\t\t            <p><span style='font-family: \"Courier New\", courier;'><strong>University Institute of Technology, The University of Burdwan.</strong></span></p>'''\n",
        "                  \n",
        "  subject = \"Hey Learner \"+ name + \", YOU HAVE EMAIL FROM SUJAN DAS\"\n",
        "  message = emails.html(html=html_text,\n",
        "                          subject=subject,\n",
        "                          mail_from=('SUJAN DAS', '<Required Email>'))\n",
        "\n",
        "  mail_via_python = message.send(to=email,\n",
        "                               smtp={'host': 'smtp.gmail.com',\n",
        "                                     'timeout': 5,\n",
        "                                     'port':587,\n",
        "                                     'user':'<Required Email>',\n",
        "                                     'password':'<Required Email Password>',\n",
        "                                     'tls':True})\n",
        "  return mail_via_python.status_code"
      ],
      "execution_count": 3,
      "outputs": []
    },
    {
      "cell_type": "code",
      "metadata": {
        "id": "jCeBGjUGl6Bv"
      },
      "source": [
        "sendMail(\"dassujan.005@gmail.com\",\"Sujan\")"
      ],
      "execution_count": 4,
      "outputs": []
    }
  ]
}
