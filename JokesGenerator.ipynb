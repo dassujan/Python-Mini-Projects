{
 "cells": [
  {
   "cell_type": "code",
   "execution_count": 1,
   "metadata": {
    "colab": {
     "base_uri": "https://localhost:8080/"
    },
    "id": "gfhcirKatdPj",
    "outputId": "1d8a2d2c-d7a3-4356-8e59-fa935d25e8f9"
   },
   "outputs": [
    {
     "name": "stdout",
     "output_type": "stream",
     "text": [
      "Collecting pyjokes\n",
      "  Downloading pyjokes-0.6.0-py2.py3-none-any.whl (26 kB)\n",
      "Installing collected packages: pyjokes\n",
      "Successfully installed pyjokes-0.6.0\n"
     ]
    }
   ],
   "source": [
    "#install libraries \n",
    "!pip install pyjokes"
   ]
  },
  {
   "cell_type": "code",
   "execution_count": 2,
   "metadata": {
    "id": "6SZemfvktw88"
   },
   "outputs": [],
   "source": [
    "#import the necessary package\n",
    "import pyjokes"
   ]
  },
  {
   "cell_type": "code",
   "execution_count": 3,
   "metadata": {
    "id": "j7kk6Y9SuK8z"
   },
   "outputs": [],
   "source": [
    "#fetch the joke\n",
    "joke1 = pyjokes.get_joke(language='en', category='all')"
   ]
  },
  {
   "cell_type": "code",
   "execution_count": 4,
   "metadata": {
    "colab": {
     "base_uri": "https://localhost:8080/"
    },
    "id": "RHgD4attuNYN",
    "outputId": "8f6ffce3-c3ca-4949-ff8d-c050cf3b78d3"
   },
   "outputs": [
    {
     "name": "stdout",
     "output_type": "stream",
     "text": [
      "The class object inherits from Chuck Norris.\n"
     ]
    }
   ],
   "source": [
    "#display the joke\n",
    "print(joke1)"
   ]
  },
  {
   "cell_type": "code",
   "execution_count": 5,
   "metadata": {
    "id": "Z7T6klPkuSXu"
   },
   "outputs": [],
   "source": [
    "#different category\n",
    "joke2 = pyjokes.get_joke(language='en', category='neutral')"
   ]
  },
  {
   "cell_type": "code",
   "execution_count": 6,
   "metadata": {
    "colab": {
     "base_uri": "https://localhost:8080/"
    },
    "id": "RV3OFl5Eu_lr",
    "outputId": "f6b0f1e4-4b7f-4455-e76e-df584f9fc987"
   },
   "outputs": [
    {
     "name": "stdout",
     "output_type": "stream",
     "text": [
      "A programmer was found dead in the shower. Next to their body was a bottle of shampoo with the instructions 'Lather, Rinse and Repeat'.\n"
     ]
    }
   ],
   "source": [
    "#display the joke\n",
    "print(joke2)"
   ]
  },
  {
   "cell_type": "code",
   "execution_count": 7,
   "metadata": {
    "colab": {
     "base_uri": "https://localhost:8080/"
    },
    "id": "Mml8Q7yuvD0S",
    "outputId": "6581c6f1-9764-414e-f104-4d118333284d"
   },
   "outputs": [
    {
     "name": "stdout",
     "output_type": "stream",
     "text": [
      "1 . Complaining about the lack of smoking shelters, the nicotine addicted Python programmers said there ought to be 'spaces for tabs'.\n",
      "2 . Ubuntu users are apt to get this joke.\n",
      "3 . Obfuscated Reality Mappers (ORMs) can be useful database tools.\n",
      "4 . Asked to explain Unicode during an interview, Geoff went into detail about his final year university project. He was not hired.\n",
      "5 . Triumphantly, Beth removed Python 2.7 from her server in 2030. 'Finally!' she said with glee, only to see the announcement for Python 4.4.\n",
      "6 . An SQL query goes into a bar, walks up to two tables and asks, 'Can I join you?'\n",
      "7 . When your hammer is C++, everything begins to look like a thumb.\n",
      "8 . If you put a million monkeys at a million keyboards, one of them will eventually write a Java program. The rest of them will write Perl.\n",
      "9 . To understand recursion you must first understand recursion.\n",
      "10 . I suggested holding a 'Python Object Oriented Programming Seminar', but the acronym was unpopular.\n"
     ]
    }
   ],
   "source": [
    "#fetch a bunch of jokes\n",
    "jokes = pyjokes.get_jokes(language='en', category='all')\n",
    "for i in range(10):\n",
    "    print(i+1,\".\",jokes[i])"
   ]
  }
 ],
 "metadata": {
  "colab": {
   "collapsed_sections": [],
   "name": "JokesGenerator.ipynb",
   "provenance": []
  },
  "kernelspec": {
   "display_name": "Python 3",
   "language": "python",
   "name": "python3"
  },
  "language_info": {
   "codemirror_mode": {
    "name": "ipython",
    "version": 3
   },
   "file_extension": ".py",
   "mimetype": "text/x-python",
   "name": "python",
   "nbconvert_exporter": "python",
   "pygments_lexer": "ipython3",
   "version": "3.6.13"
  }
 },
 "nbformat": 4,
 "nbformat_minor": 1
}
