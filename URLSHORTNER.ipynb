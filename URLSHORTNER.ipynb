{
  "nbformat": 4,
  "nbformat_minor": 0,
  "metadata": {
    "colab": {
      "name": "URLSHORTNER.ipynb",
      "provenance": [],
      "collapsed_sections": []
    },
    "kernelspec": {
      "name": "python3",
      "display_name": "Python 3"
    },
    "language_info": {
      "name": "python"
    }
  },
  "cells": [
    {
      "cell_type": "code",
      "metadata": {
        "id": "vHGn3h0aLqBZ",
        "colab": {
          "base_uri": "https://localhost:8080/"
        },
        "outputId": "ebe17a2f-92e2-4494-aebd-2092bd5382d1"
      },
      "source": [
        "# install pyshorteners\n",
        "!pip install pyshorteners"
      ],
      "execution_count": 1,
      "outputs": [
        {
          "output_type": "stream",
          "text": [
            "Collecting pyshorteners\n",
            "  Downloading https://files.pythonhosted.org/packages/80/13/7dd5f53ac009775e18861f41efadf78160e1015c84a476d373957cb63b5c/pyshorteners-1.0.1.tar.gz\n",
            "Requirement already satisfied: requests in /usr/local/lib/python3.7/dist-packages (from pyshorteners) (2.23.0)\n",
            "Requirement already satisfied: certifi>=2017.4.17 in /usr/local/lib/python3.7/dist-packages (from requests->pyshorteners) (2021.5.30)\n",
            "Requirement already satisfied: chardet<4,>=3.0.2 in /usr/local/lib/python3.7/dist-packages (from requests->pyshorteners) (3.0.4)\n",
            "Requirement already satisfied: urllib3!=1.25.0,!=1.25.1,<1.26,>=1.21.1 in /usr/local/lib/python3.7/dist-packages (from requests->pyshorteners) (1.24.3)\n",
            "Requirement already satisfied: idna<3,>=2.5 in /usr/local/lib/python3.7/dist-packages (from requests->pyshorteners) (2.10)\n",
            "Building wheels for collected packages: pyshorteners\n",
            "  Building wheel for pyshorteners (setup.py) ... \u001b[?25l\u001b[?25hdone\n",
            "  Created wheel for pyshorteners: filename=pyshorteners-1.0.1-cp37-none-any.whl size=17494 sha256=dff38b84f2f65f36b9a9d379f7e92e48ccb3c585030171ac55e90f271cfbd755\n",
            "  Stored in directory: /root/.cache/pip/wheels/99/2b/ab/854c6fdf96d6775ffe179ec99211af2adecb450108c477ada2\n",
            "Successfully built pyshorteners\n",
            "Installing collected packages: pyshorteners\n",
            "Successfully installed pyshorteners-1.0.1\n"
          ],
          "name": "stdout"
        }
      ]
    },
    {
      "cell_type": "code",
      "metadata": {
        "id": "qhWSFBiROmSq"
      },
      "source": [
        "# importing pyshorteners libary\n",
        "import pyshorteners"
      ],
      "execution_count": 2,
      "outputs": []
    },
    {
      "cell_type": "code",
      "metadata": {
        "colab": {
          "base_uri": "https://localhost:8080/"
        },
        "id": "KKLKPfshOs4x",
        "outputId": "10739536-163e-4b9d-85b7-5871c7253069"
      },
      "source": [
        "# Generating a short-url\n",
        "s = pyshorteners.Shortener()\n",
        "print(s.tinyurl.short('https://github.com/dassujan'))"
      ],
      "execution_count": 3,
      "outputs": [
        {
          "output_type": "stream",
          "text": [
            "https://tinyurl.com/ygmeu2tb\n"
          ],
          "name": "stdout"
        }
      ]
    },
    {
      "cell_type": "code",
      "metadata": {
        "colab": {
          "base_uri": "https://localhost:8080/"
        },
        "id": "TbrGnWNAOuTS",
        "outputId": "0aad2dbd-39d5-4781-8ab4-491c192c11f2"
      },
      "source": [
        "# One-liner program\n",
        "print(pyshorteners.Shortener().tinyurl.short('https://github.com/dassujan/Python-Projects'))"
      ],
      "execution_count": 4,
      "outputs": [
        {
          "output_type": "stream",
          "text": [
            "https://tinyurl.com/yjm8q683\n"
          ],
          "name": "stdout"
        }
      ]
    }
  ]
}
