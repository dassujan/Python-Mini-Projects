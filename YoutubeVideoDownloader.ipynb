{
  "nbformat": 4,
  "nbformat_minor": 0,
  "metadata": {
    "colab": {
      "name": "YoutubeVideoDownloader.ipynb",
      "provenance": []
    },
    "kernelspec": {
      "name": "python3",
      "display_name": "Python 3"
    },
    "language_info": {
      "name": "python"
    }
  },
  "cells": [
    {
      "cell_type": "code",
      "metadata": {
        "colab": {
          "base_uri": "https://localhost:8080/"
        },
        "id": "9Zj-1wy4Dc61",
        "outputId": "e8fce82d-c183-40c2-b5a5-dd5a0d3dfdb2"
      },
      "source": [
        "!pip install pytube"
      ],
      "execution_count": 1,
      "outputs": [
        {
          "output_type": "stream",
          "text": [
            "Collecting pytube\n",
            "\u001b[?25l  Downloading https://files.pythonhosted.org/packages/28/bd/30f8e4bfd3a497e820bf6fc59b6f76152e9538b8806621fdf3ec3f79150f/pytube-10.8.2-py3-none-any.whl (46kB)\n",
            "\r\u001b[K     |███████                         | 10kB 14.5MB/s eta 0:00:01\r\u001b[K     |██████████████▏                 | 20kB 19.8MB/s eta 0:00:01\r\u001b[K     |█████████████████████▎          | 30kB 10.0MB/s eta 0:00:01\r\u001b[K     |████████████████████████████▍   | 40kB 8.2MB/s eta 0:00:01\r\u001b[K     |████████████████████████████████| 51kB 2.9MB/s \n",
            "\u001b[?25hInstalling collected packages: pytube\n",
            "Successfully installed pytube-10.8.2\n"
          ],
          "name": "stdout"
        }
      ]
    },
    {
      "cell_type": "code",
      "metadata": {
        "id": "0I5ke2QDDiZr"
      },
      "source": [
        "from pytube import YouTube"
      ],
      "execution_count": 2,
      "outputs": []
    },
    {
      "cell_type": "code",
      "metadata": {
        "colab": {
          "base_uri": "https://localhost:8080/",
          "height": 35
        },
        "id": "zwiF9lWzDs94",
        "outputId": "3ee35b3d-166b-4377-bf70-91984f4d6111"
      },
      "source": [
        "YouTube('https://youtu.be/W0DM5lcj6mw').streams.first().download()"
      ],
      "execution_count": 3,
      "outputs": [
        {
          "output_type": "execute_result",
          "data": {
            "application/vnd.google.colaboratory.intrinsic+json": {
              "type": "string"
            },
            "text/plain": [
              "'/content/Imagine Dragons - Believer (Lyrics).mp4'"
            ]
          },
          "metadata": {
            "tags": []
          },
          "execution_count": 3
        }
      ]
    }
  ]
}